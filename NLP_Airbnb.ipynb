{
  "nbformat": 4,
  "nbformat_minor": 0,
  "metadata": {
    "colab": {
      "name": "NLP_Airbnb.ipynb",
      "provenance": [],
      "toc_visible": true,
      "mount_file_id": "1_qbUkDw77vvFRuY3JcFWbEQKS4G465I0",
      "authorship_tag": "ABX9TyO4/0OFb4wwZw6LYIReBAX/",
      "include_colab_link": true
    },
    "kernelspec": {
      "name": "python3",
      "display_name": "Python 3"
    }
  },
  "cells": [
    {
      "cell_type": "markdown",
      "metadata": {
        "id": "view-in-github",
        "colab_type": "text"
      },
      "source": [
        "<a href=\"https://colab.research.google.com/github/acbattles/Review_Topics/blob/master/NLP_Airbnb.ipynb\" target=\"_parent\"><img src=\"https://colab.research.google.com/assets/colab-badge.svg\" alt=\"Open In Colab\"/></a>"
      ]
    },
    {
      "cell_type": "markdown",
      "metadata": {
        "id": "QNDA1Slx-xN7",
        "colab_type": "text"
      },
      "source": [
        "# Topic Modeling\n",
        "\n",
        "Topic modeling on Denver AirBnb review data through 2018"
      ]
    },
    {
      "cell_type": "markdown",
      "metadata": {
        "id": "fthT73Nw-5qx",
        "colab_type": "text"
      },
      "source": [
        "### Import Data and Clean"
      ]
    },
    {
      "cell_type": "code",
      "metadata": {
        "id": "cSdHT914-x16",
        "colab_type": "code",
        "colab": {
          "base_uri": "https://localhost:8080/",
          "height": 202
        },
        "outputId": "2e51d6bd-b950-4538-f752-ad0877c32c36"
      },
      "source": [
        "import numpy as np\n",
        "import pandas as pd\n",
        "\n",
        "df = pd.read_csv('/content/drive/My Drive/DataScience_Projects/reviews_Denver.csv')\n",
        "df.head()"
      ],
      "execution_count": null,
      "outputs": [
        {
          "output_type": "execute_result",
          "data": {
            "text/html": [
              "<div>\n",
              "<style scoped>\n",
              "    .dataframe tbody tr th:only-of-type {\n",
              "        vertical-align: middle;\n",
              "    }\n",
              "\n",
              "    .dataframe tbody tr th {\n",
              "        vertical-align: top;\n",
              "    }\n",
              "\n",
              "    .dataframe thead th {\n",
              "        text-align: right;\n",
              "    }\n",
              "</style>\n",
              "<table border=\"1\" class=\"dataframe\">\n",
              "  <thead>\n",
              "    <tr style=\"text-align: right;\">\n",
              "      <th></th>\n",
              "      <th>listing_id</th>\n",
              "      <th>id</th>\n",
              "      <th>date</th>\n",
              "      <th>reviewer_id</th>\n",
              "      <th>reviewer_name</th>\n",
              "      <th>comments</th>\n",
              "    </tr>\n",
              "  </thead>\n",
              "  <tbody>\n",
              "    <tr>\n",
              "      <th>0</th>\n",
              "      <td>177</td>\n",
              "      <td>99461681</td>\n",
              "      <td>2016-09-04</td>\n",
              "      <td>78348548</td>\n",
              "      <td>Brenna</td>\n",
              "      <td>Great place to stay! Definitely a tiny home, b...</td>\n",
              "    </tr>\n",
              "    <tr>\n",
              "      <th>1</th>\n",
              "      <td>177</td>\n",
              "      <td>101460574</td>\n",
              "      <td>2016-09-13</td>\n",
              "      <td>72125554</td>\n",
              "      <td>Rachael</td>\n",
              "      <td>Joe was very friendly and gave us all the info...</td>\n",
              "    </tr>\n",
              "    <tr>\n",
              "      <th>2</th>\n",
              "      <td>177</td>\n",
              "      <td>101681475</td>\n",
              "      <td>2016-09-14</td>\n",
              "      <td>21300329</td>\n",
              "      <td>Haley</td>\n",
              "      <td>Amazing property and Joe was a great host! Eve...</td>\n",
              "    </tr>\n",
              "    <tr>\n",
              "      <th>3</th>\n",
              "      <td>177</td>\n",
              "      <td>102963808</td>\n",
              "      <td>2016-09-19</td>\n",
              "      <td>53882399</td>\n",
              "      <td>Mike</td>\n",
              "      <td>Joe was a great host, the description of this ...</td>\n",
              "    </tr>\n",
              "    <tr>\n",
              "      <th>4</th>\n",
              "      <td>177</td>\n",
              "      <td>103447333</td>\n",
              "      <td>2016-09-22</td>\n",
              "      <td>94621370</td>\n",
              "      <td>Carol</td>\n",
              "      <td>He welcomes us when we first arrived and gave ...</td>\n",
              "    </tr>\n",
              "  </tbody>\n",
              "</table>\n",
              "</div>"
            ],
            "text/plain": [
              "   listing_id  ...                                           comments\n",
              "0         177  ...  Great place to stay! Definitely a tiny home, b...\n",
              "1         177  ...  Joe was very friendly and gave us all the info...\n",
              "2         177  ...  Amazing property and Joe was a great host! Eve...\n",
              "3         177  ...  Joe was a great host, the description of this ...\n",
              "4         177  ...  He welcomes us when we first arrived and gave ...\n",
              "\n",
              "[5 rows x 6 columns]"
            ]
          },
          "metadata": {
            "tags": []
          },
          "execution_count": 1
        }
      ]
    },
    {
      "cell_type": "code",
      "metadata": {
        "id": "tWoQEZZQ-9ms",
        "colab_type": "code",
        "colab": {
          "base_uri": "https://localhost:8080/",
          "height": 139
        },
        "outputId": "5ef0c581-1151-4cfd-db68-d500a85208a1"
      },
      "source": [
        "df.isnull().sum()"
      ],
      "execution_count": null,
      "outputs": [
        {
          "output_type": "execute_result",
          "data": {
            "text/plain": [
              "listing_id         0\n",
              "id                 0\n",
              "date               0\n",
              "reviewer_id        0\n",
              "reviewer_name      0\n",
              "comments         145\n",
              "dtype: int64"
            ]
          },
          "metadata": {
            "tags": []
          },
          "execution_count": 2
        }
      ]
    },
    {
      "cell_type": "code",
      "metadata": {
        "id": "Z7QCWmQz_L_t",
        "colab_type": "code",
        "colab": {}
      },
      "source": [
        "df.dropna(inplace=True)"
      ],
      "execution_count": null,
      "outputs": []
    },
    {
      "cell_type": "code",
      "metadata": {
        "id": "taI9gnsc_Nw9",
        "colab_type": "code",
        "colab": {
          "base_uri": "https://localhost:8080/",
          "height": 35
        },
        "outputId": "3b030957-d231-4321-c3ff-eb3b999c4a8e"
      },
      "source": [
        "blanks = []  # start with an empty list\n",
        "\n",
        "#change if there are additional columns\n",
        "for i,x1,x2,x3,x4,x5,rv in df.itertuples():  # iterate over the DataFrame\n",
        "    if type(rv)==str:            # avoid NaN values\n",
        "        if rv.isspace():         # test 'review' for whitespace\n",
        "            blanks.append(i)     # add matching index numbers to the list\n",
        "        \n",
        "print(len(blanks), 'blanks: ', blanks)"
      ],
      "execution_count": null,
      "outputs": [
        {
          "output_type": "stream",
          "text": [
            "1 blanks:  [110981]\n"
          ],
          "name": "stdout"
        }
      ]
    },
    {
      "cell_type": "code",
      "metadata": {
        "id": "ohtvp8Eh_UdP",
        "colab_type": "code",
        "colab": {}
      },
      "source": [
        "df.drop(blanks, inplace=True)"
      ],
      "execution_count": null,
      "outputs": []
    },
    {
      "cell_type": "code",
      "metadata": {
        "id": "Pvm6qtKc_XSM",
        "colab_type": "code",
        "colab": {}
      },
      "source": [
        "#split into training and testing sets\n",
        "df['date']=pd.to_datetime(df['date'])\n",
        "\n",
        "\n",
        "df_train = df[df['date'].dt.year<2019].copy()\n",
        "df_test = df[df['date'].dt.year>2018].copy()"
      ],
      "execution_count": null,
      "outputs": []
    },
    {
      "cell_type": "code",
      "metadata": {
        "id": "VjTKCWap_hAV",
        "colab_type": "code",
        "colab": {
          "base_uri": "https://localhost:8080/",
          "height": 52
        },
        "outputId": "9747e3f6-e0a3-42aa-83e9-1e6c8245e995"
      },
      "source": [
        "print(\"training data size: \" , len(df_train))\n",
        "print(\"testing data size: \" , len(df_test))"
      ],
      "execution_count": null,
      "outputs": [
        {
          "output_type": "stream",
          "text": [
            "training data size:  126388\n",
            "testing data size:  122343\n"
          ],
          "name": "stdout"
        }
      ]
    },
    {
      "cell_type": "code",
      "metadata": {
        "id": "hIhMWCSR__ck",
        "colab_type": "code",
        "colab": {}
      },
      "source": [
        ""
      ],
      "execution_count": null,
      "outputs": []
    },
    {
      "cell_type": "markdown",
      "metadata": {
        "id": "fqvMRj14AC9m",
        "colab_type": "text"
      },
      "source": [
        "### NLP Pre-processing"
      ]
    },
    {
      "cell_type": "code",
      "metadata": {
        "id": "UbOSjLe3AEdl",
        "colab_type": "code",
        "colab": {}
      },
      "source": [
        "import spacy\n",
        "nlp = spacy.load('en_core_web_sm')\n",
        "\n",
        "#tokenize comments\n",
        "texts_train = df_train['comments'].tolist()\n",
        "spacy_docs = list(nlp.pipe(texts_train))"
      ],
      "execution_count": null,
      "outputs": []
    },
    {
      "cell_type": "code",
      "metadata": {
        "id": "suHN6Qz4AVWl",
        "colab_type": "code",
        "colab": {}
      },
      "source": [
        "#lemmatize words and remove stop words\n",
        "docs = [[t.lemma_.lower() for t in doc if len(t.orth_) > 2 and not t.is_stop] for doc in spacy_docs]"
      ],
      "execution_count": null,
      "outputs": []
    },
    {
      "cell_type": "code",
      "metadata": {
        "id": "P_GBLb11A35c",
        "colab_type": "code",
        "colab": {
          "base_uri": "https://localhost:8080/",
          "height": 72
        },
        "outputId": "e4283445-a59d-495c-e32a-e84342272629"
      },
      "source": [
        "#include bi-grams\n",
        "import re\n",
        "from gensim.models import Phrases\n",
        "\n",
        "\n",
        "bigram = Phrases(docs, min_count=10)\n",
        "tokens = []\n",
        "\n",
        "for idx in range(len(docs)):\n",
        "    for token in bigram[docs[idx]]:\n",
        "        if '_' in token:  # bigrams can be recognized by the \"_\" that joins the invidual words\n",
        "            docs[idx].append(token)\n",
        "            tokens.append(token)"
      ],
      "execution_count": null,
      "outputs": [
        {
          "output_type": "stream",
          "text": [
            "/usr/local/lib/python3.6/dist-packages/gensim/models/phrases.py:598: UserWarning: For a faster implementation, use the gensim.models.phrases.Phraser class\n",
            "  warnings.warn(\"For a faster implementation, use the gensim.models.phrases.Phraser class\")\n"
          ],
          "name": "stderr"
        }
      ]
    },
    {
      "cell_type": "code",
      "metadata": {
        "id": "TKVNNxPTBDNw",
        "colab_type": "code",
        "colab": {
          "base_uri": "https://localhost:8080/",
          "height": 69
        },
        "outputId": "076ab014-54cf-44ba-d03d-ad5f9abf27f3"
      },
      "source": [
        "#create dictionary\n",
        "from gensim.corpora import Dictionary\n",
        "\n",
        "dictionary = Dictionary(docs)\n",
        "print('Number of unique words in original documents:', len(dictionary))\n",
        "\n",
        "dictionary.filter_extremes(no_below=5, no_above=0.1)\n",
        "print('Number of unique words after removing rare and common words:', len(dictionary))\n",
        "\n",
        "print(\"Example representation of document 3:\", dictionary.doc2bow(docs[2]))"
      ],
      "execution_count": null,
      "outputs": [
        {
          "output_type": "stream",
          "text": [
            "Number of unique words in original documents: 31150\n",
            "Number of unique words after removing rare and common words: 10368\n",
            "Example representation of document 3: [(8, 1), (28, 1), (29, 1), (30, 1), (31, 1)]\n"
          ],
          "name": "stdout"
        }
      ]
    },
    {
      "cell_type": "code",
      "metadata": {
        "id": "8T3MCiwXBUsk",
        "colab_type": "code",
        "colab": {}
      },
      "source": [
        "#create corpus\n",
        "corpus = [dictionary.doc2bow(doc) for doc in docs]"
      ],
      "execution_count": null,
      "outputs": []
    },
    {
      "cell_type": "markdown",
      "metadata": {
        "id": "ZQNsQMrPCFfC",
        "colab_type": "text"
      },
      "source": [
        "### Run LDA model"
      ]
    },
    {
      "cell_type": "code",
      "metadata": {
        "id": "LSzvyDaLBW-x",
        "colab_type": "code",
        "colab": {
          "base_uri": "https://localhost:8080/",
          "height": 211
        },
        "outputId": "ea0f304c-58d7-49c8-d1da-66ca33bb9c42"
      },
      "source": [
        "#run LDA model\n",
        "from gensim.models import LdaModel\n",
        "\n",
        "model = LdaModel(corpus=corpus,\n",
        "                       id2word=dictionary,\n",
        "                       num_topics=5,#number of topics\n",
        "                       chunksize=500,\n",
        "                       passes=3,\n",
        "                       random_state=617)\n",
        "\n",
        "#print top words in each topic\n",
        "for (topic, words) in model.print_topics():\n",
        "  print(topic, \":\", words, '\\n')"
      ],
      "execution_count": null,
      "outputs": [
        {
          "output_type": "stream",
          "text": [
            "0 : 0.049*\"check\" + 0.028*\"quick\" + 0.021*\"respond\" + 0.015*\"question\" + 0.014*\"communication\" + 0.011*\"quick_respond\" + 0.010*\"helpful\" + 0.009*\"apartment\" + 0.009*\"quickly\" + 0.009*\"trip\" \n",
            "\n",
            "1 : 0.039*\"highly\" + 0.036*\"highly_recommend\" + 0.025*\"amazing\" + 0.021*\"wonderful\" + 0.018*\"beautiful\" + 0.016*\"awesome\" + 0.015*\"cozy\" + 0.014*\"thank\" + 0.013*\"responsive\" + 0.013*\"helpful\" \n",
            "\n",
            "2 : 0.029*\"feel\" + 0.019*\"like\" + 0.013*\"airbnb\" + 0.012*\"amazing\" + 0.009*\"touch\" + 0.008*\"go\" + 0.008*\"come\" + 0.008*\"beautiful\" + 0.008*\"feel_like\" + 0.007*\"group\" \n",
            "\n",
            "3 : 0.025*\"distance\" + 0.023*\"walk_distance\" + 0.017*\"spot\" + 0.017*\"bar\" + 0.015*\"shop\" + 0.014*\"park\" + 0.014*\"street\" + 0.014*\"lot\" + 0.012*\"city\" + 0.011*\"away\" \n",
            "\n",
            "4 : 0.031*\"bed\" + 0.017*\"kitchen\" + 0.014*\"bathroom\" + 0.010*\"bedroom\" + 0.010*\"comfy\" + 0.009*\"night\" + 0.008*\"private\" + 0.008*\"sleep\" + 0.008*\"coffee\" + 0.007*\"parking\" \n",
            "\n"
          ],
          "name": "stdout"
        }
      ]
    },
    {
      "cell_type": "markdown",
      "metadata": {
        "id": "3yMej0iVeZ1V",
        "colab_type": "text"
      },
      "source": [
        "#### Topics:\n",
        "The topics look like:\n",
        "\n",
        "1. (0) Host Communication\n",
        "2. (1) Recommend to others\n",
        "3. (2) Good Feelings\n",
        "4. (3) Location\n",
        "5. (4) Accommodations"
      ]
    },
    {
      "cell_type": "code",
      "metadata": {
        "id": "zGBeRtFyB2L5",
        "colab_type": "code",
        "colab": {}
      },
      "source": [
        "#Add topic number to original df\n",
        "topic_nums = []\n",
        "\n",
        "for (text, doc) in zip(texts_train, docs):\n",
        "    probs = np.array(model[dictionary.doc2bow(doc)])\n",
        "    topic_nums.append(probs[np.argsort(probs[:,-1])][-1,0])\n",
        "    \n",
        "df_train['topic'] = topic_nums"
      ],
      "execution_count": null,
      "outputs": []
    },
    {
      "cell_type": "code",
      "metadata": {
        "id": "SaWhNGqY2AOL",
        "colab_type": "code",
        "colab": {
          "base_uri": "https://localhost:8080/",
          "height": 289
        },
        "outputId": "7e729032-3470-410b-e93a-caad23279f45"
      },
      "source": [
        "df_train.head()"
      ],
      "execution_count": null,
      "outputs": [
        {
          "output_type": "execute_result",
          "data": {
            "text/html": [
              "<div>\n",
              "<style scoped>\n",
              "    .dataframe tbody tr th:only-of-type {\n",
              "        vertical-align: middle;\n",
              "    }\n",
              "\n",
              "    .dataframe tbody tr th {\n",
              "        vertical-align: top;\n",
              "    }\n",
              "\n",
              "    .dataframe thead th {\n",
              "        text-align: right;\n",
              "    }\n",
              "</style>\n",
              "<table border=\"1\" class=\"dataframe\">\n",
              "  <thead>\n",
              "    <tr style=\"text-align: right;\">\n",
              "      <th></th>\n",
              "      <th>listing_id</th>\n",
              "      <th>id</th>\n",
              "      <th>date</th>\n",
              "      <th>reviewer_id</th>\n",
              "      <th>reviewer_name</th>\n",
              "      <th>comments</th>\n",
              "      <th>topic</th>\n",
              "    </tr>\n",
              "  </thead>\n",
              "  <tbody>\n",
              "    <tr>\n",
              "      <th>0</th>\n",
              "      <td>177</td>\n",
              "      <td>99461681</td>\n",
              "      <td>2016-09-04</td>\n",
              "      <td>78348548</td>\n",
              "      <td>Brenna</td>\n",
              "      <td>Great place to stay! Definitely a tiny home, b...</td>\n",
              "      <td>3.0</td>\n",
              "    </tr>\n",
              "    <tr>\n",
              "      <th>1</th>\n",
              "      <td>177</td>\n",
              "      <td>101460574</td>\n",
              "      <td>2016-09-13</td>\n",
              "      <td>72125554</td>\n",
              "      <td>Rachael</td>\n",
              "      <td>Joe was very friendly and gave us all the info...</td>\n",
              "      <td>1.0</td>\n",
              "    </tr>\n",
              "    <tr>\n",
              "      <th>2</th>\n",
              "      <td>177</td>\n",
              "      <td>101681475</td>\n",
              "      <td>2016-09-14</td>\n",
              "      <td>21300329</td>\n",
              "      <td>Haley</td>\n",
              "      <td>Amazing property and Joe was a great host! Eve...</td>\n",
              "      <td>1.0</td>\n",
              "    </tr>\n",
              "    <tr>\n",
              "      <th>3</th>\n",
              "      <td>177</td>\n",
              "      <td>102963808</td>\n",
              "      <td>2016-09-19</td>\n",
              "      <td>53882399</td>\n",
              "      <td>Mike</td>\n",
              "      <td>Joe was a great host, the description of this ...</td>\n",
              "      <td>4.0</td>\n",
              "    </tr>\n",
              "    <tr>\n",
              "      <th>4</th>\n",
              "      <td>177</td>\n",
              "      <td>103447333</td>\n",
              "      <td>2016-09-22</td>\n",
              "      <td>94621370</td>\n",
              "      <td>Carol</td>\n",
              "      <td>He welcomes us when we first arrived and gave ...</td>\n",
              "      <td>0.0</td>\n",
              "    </tr>\n",
              "  </tbody>\n",
              "</table>\n",
              "</div>"
            ],
            "text/plain": [
              "   listing_id  ...  topic\n",
              "0         177  ...    3.0\n",
              "1         177  ...    1.0\n",
              "2         177  ...    1.0\n",
              "3         177  ...    4.0\n",
              "4         177  ...    0.0\n",
              "\n",
              "[5 rows x 7 columns]"
            ]
          },
          "metadata": {
            "tags": []
          },
          "execution_count": 20
        }
      ]
    },
    {
      "cell_type": "code",
      "metadata": {
        "id": "kRbOFY5pCzyT",
        "colab_type": "code",
        "colab": {}
      },
      "source": [
        "#save df as csv\n",
        "\n",
        "#Uncomment and run once number of topics is finalized:\n",
        "df_train.to_csv('/content/drive/My Drive/DataScience_Projects/reviews_DenverBefore2019_topics_1.0.csv')"
      ],
      "execution_count": null,
      "outputs": []
    },
    {
      "cell_type": "markdown",
      "metadata": {
        "id": "npnSy4piCLNp",
        "colab_type": "text"
      },
      "source": [
        "# Classification\n",
        "\n",
        "I want to predict the topic of reviews left in 2019 in Denver, trained on the reviews through 2018.\n"
      ]
    },
    {
      "cell_type": "code",
      "metadata": {
        "id": "4VLiCjibUhk1",
        "colab_type": "code",
        "colab": {}
      },
      "source": [
        "import numpy as np\n",
        "import pandas as pd\n",
        "\n",
        "df_train = pd.read_csv('/content/drive/My Drive/DataScience_Projects/reviews_DenverBefore2019_topics_1.0.csv')"
      ],
      "execution_count": null,
      "outputs": []
    },
    {
      "cell_type": "code",
      "metadata": {
        "id": "OI4NoXv2CMx7",
        "colab_type": "code",
        "colab": {}
      },
      "source": [
        "import string\n",
        "from spacy.lang.en.stop_words import STOP_WORDS\n",
        "from spacy.lang.en import English\n",
        "\n",
        "from sklearn.feature_extraction.text import CountVectorizer,TfidfVectorizer\n",
        "from sklearn.base import TransformerMixin\n",
        "from sklearn.pipeline import Pipeline\n",
        "\n",
        "# Create our list of punctuation marks\n",
        "punctuations = string.punctuation\n",
        "\n",
        "# Create our list of stopwords\n",
        "nlp = spacy.load('en')\n",
        "stop_words = spacy.lang.en.stop_words.STOP_WORDS\n",
        "\n",
        "# Load English tokenizer, tagger, parser, NER and word vectors\n",
        "parser = English()\n",
        "\n",
        "# Creating our tokenizer function\n",
        "def spacy_tokenizer(sentence):\n",
        "    # Creating our token object, which is used to create documents with linguistic annotations.\n",
        "    mytokens = parser(sentence)\n",
        "\n",
        "    # Lemmatizing each token and converting each token into lowercase\n",
        "    mytokens = [ word.lemma_.lower().strip() if word.lemma_ != \"-PRON-\" else word.lower_ for word in mytokens ]\n",
        "\n",
        "    # Removing stop words\n",
        "    mytokens = [ word for word in mytokens if word not in stop_words and word not in punctuations ]\n",
        "\n",
        "    # return preprocessed list of tokens\n",
        "    return mytokens\n",
        "\n",
        "\n",
        "# Custom transformer using spaCy\n",
        "class predictors(TransformerMixin):\n",
        "    def transform(self, X, **transform_params):\n",
        "        # Cleaning Text\n",
        "        return [clean_text(text) for text in X]\n",
        "\n",
        "    def fit(self, X, y=None, **fit_params):\n",
        "        return self\n",
        "\n",
        "    def get_params(self, deep=True):\n",
        "        return {}\n",
        "\n",
        "# Basic function to clean the text\n",
        "def clean_text(text):\n",
        "    # Removing spaces and converting text into lowercase\n",
        "    return text.strip().lower()\n",
        "\n",
        "#assign TF_IDF vectorizer\n",
        "tfidf_vector = TfidfVectorizer(tokenizer = spacy_tokenizer)"
      ],
      "execution_count": null,
      "outputs": []
    },
    {
      "cell_type": "code",
      "metadata": {
        "id": "ELXazvQCFO5X",
        "colab_type": "code",
        "colab": {}
      },
      "source": [
        "from sklearn.model_selection import train_test_split\n",
        "\n",
        "X = df_train['comments'] # the features we want to analyze\n",
        "ylabels = df_train['topic'] # the labels, or answers, we want to test against\n",
        "\n",
        "X_train, X_test, y_train, y_test = train_test_split(X, ylabels, test_size=0.3, random_state=617)"
      ],
      "execution_count": null,
      "outputs": []
    },
    {
      "cell_type": "markdown",
      "metadata": {
        "id": "pAPnCTEKZnWx",
        "colab_type": "text"
      },
      "source": [
        "#### Random Forest"
      ]
    },
    {
      "cell_type": "code",
      "metadata": {
        "id": "_zQwuroaU-Ih",
        "colab_type": "code",
        "colab": {
          "base_uri": "https://localhost:8080/",
          "height": 416
        },
        "outputId": "40966af0-e057-4b76-e6f0-973f40e642b9"
      },
      "source": [
        "from sklearn.ensemble import RandomForestClassifier\n",
        "classifier = RandomForestClassifier(n_estimators = 1000,\n",
        "                                    max_depth = )\n",
        "\n",
        "# Create pipeline using Bag of Words\n",
        "pipe = Pipeline([(\"cleaner\", predictors()),\n",
        "                 ('vectorizer', tfidf_vector),\n",
        "                 ('classifier', classifier)])\n",
        "\n",
        "# model generation\n",
        "pipe.fit(X_train,y_train)"
      ],
      "execution_count": null,
      "outputs": [
        {
          "output_type": "execute_result",
          "data": {
            "text/plain": [
              "Pipeline(memory=None,\n",
              "         steps=[('cleaner', <__main__.predictors object at 0x7f96328f2860>),\n",
              "                ('vectorizer',\n",
              "                 TfidfVectorizer(analyzer='word', binary=False,\n",
              "                                 decode_error='strict',\n",
              "                                 dtype=<class 'numpy.float64'>,\n",
              "                                 encoding='utf-8', input='content',\n",
              "                                 lowercase=True, max_df=1.0, max_features=None,\n",
              "                                 min_df=1, ngram_range=(1, 1), norm='l2',\n",
              "                                 preprocessor=None, smooth_idf=True,\n",
              "                                 stop_wor...\n",
              "                 RandomForestClassifier(bootstrap=True, ccp_alpha=0.0,\n",
              "                                        class_weight=None, criterion='gini',\n",
              "                                        max_depth=None, max_features='auto',\n",
              "                                        max_leaf_nodes=None, max_samples=None,\n",
              "                                        min_impurity_decrease=0.0,\n",
              "                                        min_impurity_split=None,\n",
              "                                        min_samples_leaf=1, min_samples_split=2,\n",
              "                                        min_weight_fraction_leaf=0.0,\n",
              "                                        n_estimators=100, n_jobs=None,\n",
              "                                        oob_score=False, random_state=None,\n",
              "                                        verbose=0, warm_start=False))],\n",
              "         verbose=False)"
            ]
          },
          "metadata": {
            "tags": []
          },
          "execution_count": 26
        }
      ]
    },
    {
      "cell_type": "code",
      "metadata": {
        "id": "AvA_dtbWVhuF",
        "colab_type": "code",
        "colab": {
          "base_uri": "https://localhost:8080/",
          "height": 35
        },
        "outputId": "0a96aa4c-4810-452d-cd94-a1052433dbcd"
      },
      "source": [
        "from sklearn import metrics\n",
        "# Predicting with a test dataset\n",
        "predicted = pipe.predict(X_test)\n",
        "\n",
        "# Model Accuracy\n",
        "print(\"Random Forest:\",metrics.accuracy_score(y_test, predicted))\n",
        "#print(\"Logistic Regression Precision:\",metrics.precision_score(y_test, predicted))\n",
        "#print(\"Logistic Regression Recall:\",metrics.recall_score(y_test, predicted))"
      ],
      "execution_count": null,
      "outputs": [
        {
          "output_type": "stream",
          "text": [
            "Random Forest: 0.6677743492364903\n"
          ],
          "name": "stdout"
        }
      ]
    },
    {
      "cell_type": "markdown",
      "metadata": {
        "id": "O7SZlAImfP9o",
        "colab_type": "text"
      },
      "source": [
        "These results aren't bad, but let's see if we can do better"
      ]
    },
    {
      "cell_type": "markdown",
      "metadata": {
        "id": "8Ii8Ps3aZruF",
        "colab_type": "text"
      },
      "source": [
        "### SVM"
      ]
    },
    {
      "cell_type": "code",
      "metadata": {
        "id": "43xC3T2EZtTy",
        "colab_type": "code",
        "colab": {
          "base_uri": "https://localhost:8080/",
          "height": 399
        },
        "outputId": "3ed0e1ee-1889-4c70-fae0-5d626ea255b9"
      },
      "source": [
        "from sklearn.svm import LinearSVC\n",
        "classifier = LinearSVC(class_weight = 'balanced')\n",
        "\n",
        "# Create pipeline using Bag of Words\n",
        "pipe = Pipeline([(\"cleaner\", predictors()),\n",
        "                 ('vectorizer', tfidf_vector),\n",
        "                 ('classifier', classifier)])\n",
        "\n",
        "# model generation\n",
        "pipe.fit(X_train,y_train)"
      ],
      "execution_count": null,
      "outputs": [
        {
          "output_type": "execute_result",
          "data": {
            "text/plain": [
              "Pipeline(memory=None,\n",
              "         steps=[('cleaner', <__main__.predictors object at 0x7f9626b27ac8>),\n",
              "                ('vectorizer',\n",
              "                 TfidfVectorizer(analyzer='word', binary=False,\n",
              "                                 decode_error='strict',\n",
              "                                 dtype=<class 'numpy.float64'>,\n",
              "                                 encoding='utf-8', input='content',\n",
              "                                 lowercase=True, max_df=1.0, max_features=None,\n",
              "                                 min_df=1, ngram_range=(1, 1), norm='l2',\n",
              "                                 preprocessor=None, smooth_idf=True,\n",
              "                                 stop_wor...\n",
              "                                 sublinear_tf=False,\n",
              "                                 token_pattern='(?u)\\\\b\\\\w\\\\w+\\\\b',\n",
              "                                 tokenizer=<function spacy_tokenizer at 0x7f966d3c6f28>,\n",
              "                                 use_idf=True, vocabulary=None)),\n",
              "                ('classifier',\n",
              "                 LinearSVC(C=1.0, class_weight='balanced', dual=True,\n",
              "                           fit_intercept=True, intercept_scaling=1,\n",
              "                           loss='squared_hinge', max_iter=1000,\n",
              "                           multi_class='ovr', penalty='l2', random_state=None,\n",
              "                           tol=0.0001, verbose=0))],\n",
              "         verbose=False)"
            ]
          },
          "metadata": {
            "tags": []
          },
          "execution_count": 29
        }
      ]
    },
    {
      "cell_type": "code",
      "metadata": {
        "id": "5vdklgNVaTMv",
        "colab_type": "code",
        "colab": {
          "base_uri": "https://localhost:8080/",
          "height": 35
        },
        "outputId": "12d51f92-3c08-4bd0-abfc-ca26326b6627"
      },
      "source": [
        "from sklearn import metrics\n",
        "# Predicting with a test dataset\n",
        "predicted = pipe.predict(X_test)\n",
        "\n",
        "# Model Accuracy\n",
        "print(\"SVM Accuracy:\",metrics.accuracy_score(y_test, predicted))"
      ],
      "execution_count": null,
      "outputs": [
        {
          "output_type": "stream",
          "text": [
            "SVM Accuracy: 0.8547089695914761\n"
          ],
          "name": "stdout"
        }
      ]
    },
    {
      "cell_type": "code",
      "metadata": {
        "id": "8tArY22qadKc",
        "colab_type": "code",
        "colab": {
          "base_uri": "https://localhost:8080/",
          "height": 69
        },
        "outputId": "5a251d64-bca1-4c52-d79a-1a7139084731"
      },
      "source": [
        "#test on new data\n",
        "x=np.random.randint(0,len(df_train))\n",
        "sample_pred = df_train['comments'][x]\n",
        "print(sample_pred)\n",
        "\n",
        "prediction_test = pipe.predict(sample_pred)\n",
        "print(\"First guess:\", prediction_test[0])\n",
        "print(\"Second guess:\", prediction_test[1])"
      ],
      "execution_count": null,
      "outputs": [
        {
          "output_type": "stream",
          "text": [
            "Very warm & welcoming from the moment we got there. Equipt with all basics essentials one would need.\n",
            "First guess: 4.0\n",
            "Second guess: 2.0\n"
          ],
          "name": "stdout"
        }
      ]
    },
    {
      "cell_type": "markdown",
      "metadata": {
        "id": "IbUTDtQrfWbR",
        "colab_type": "text"
      },
      "source": [
        "We get much better accuracy with the SVM model.\n",
        "\n",
        "In this random example, we see that the model predicted the topic 4 (accomodation). We can also ask to see the next likely topic."
      ]
    }
  ]
}